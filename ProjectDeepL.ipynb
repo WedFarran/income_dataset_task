{
 "cells": [
  {
   "cell_type": "markdown",
   "metadata": {},
   "source": [
    "### Income Dataset\n",
    "### Perform Binary Classification to predict if Salary is greater than $50K "
   ]
  },
  {
   "cell_type": "code",
   "execution_count": 1,
   "metadata": {},
   "outputs": [
    {
     "name": "stdout",
     "output_type": "stream",
     "text": [
      "Requirement already satisfied: kaggle in c:\\users\\wedfa\\miniconda3\\envs\\t5\\lib\\site-packages (1.6.12)\n",
      "Requirement already satisfied: six>=1.10 in c:\\users\\wedfa\\miniconda3\\envs\\t5\\lib\\site-packages (from kaggle) (1.16.0)\n",
      "Requirement already satisfied: certifi>=2023.7.22 in c:\\users\\wedfa\\miniconda3\\envs\\t5\\lib\\site-packages (from kaggle) (2024.2.2)\n",
      "Requirement already satisfied: python-dateutil in c:\\users\\wedfa\\miniconda3\\envs\\t5\\lib\\site-packages (from kaggle) (2.9.0)\n",
      "Requirement already satisfied: requests in c:\\users\\wedfa\\miniconda3\\envs\\t5\\lib\\site-packages (from kaggle) (2.31.0)\n",
      "Requirement already satisfied: tqdm in c:\\users\\wedfa\\miniconda3\\envs\\t5\\lib\\site-packages (from kaggle) (4.66.2)\n",
      "Requirement already satisfied: python-slugify in c:\\users\\wedfa\\miniconda3\\envs\\t5\\lib\\site-packages (from kaggle) (8.0.4)\n",
      "Requirement already satisfied: urllib3 in c:\\users\\wedfa\\miniconda3\\envs\\t5\\lib\\site-packages (from kaggle) (2.2.1)\n",
      "Requirement already satisfied: bleach in c:\\users\\wedfa\\miniconda3\\envs\\t5\\lib\\site-packages (from kaggle) (4.1.0)\n",
      "Requirement already satisfied: packaging in c:\\users\\wedfa\\miniconda3\\envs\\t5\\lib\\site-packages (from bleach->kaggle) (24.0)\n",
      "Requirement already satisfied: webencodings in c:\\users\\wedfa\\miniconda3\\envs\\t5\\lib\\site-packages (from bleach->kaggle) (0.5.1)\n",
      "Requirement already satisfied: text-unidecode>=1.3 in c:\\users\\wedfa\\miniconda3\\envs\\t5\\lib\\site-packages (from python-slugify->kaggle) (1.3)\n",
      "Requirement already satisfied: charset-normalizer<4,>=2 in c:\\users\\wedfa\\miniconda3\\envs\\t5\\lib\\site-packages (from requests->kaggle) (3.3.2)\n",
      "Requirement already satisfied: idna<4,>=2.5 in c:\\users\\wedfa\\miniconda3\\envs\\t5\\lib\\site-packages (from requests->kaggle) (3.6)\n",
      "Requirement already satisfied: colorama in c:\\users\\wedfa\\miniconda3\\envs\\t5\\lib\\site-packages (from tqdm->kaggle) (0.4.6)\n",
      "Note: you may need to restart the kernel to use updated packages.\n"
     ]
    }
   ],
   "source": [
    "%pip install kaggle"
   ]
  },
  {
   "cell_type": "markdown",
   "metadata": {},
   "source": [
    "## Setup"
   ]
  },
  {
   "cell_type": "markdown",
   "metadata": {},
   "source": [
    "### Import libraries"
   ]
  },
  {
   "cell_type": "code",
   "execution_count": 2,
   "metadata": {},
   "outputs": [],
   "source": [
    "import pandas as pd\n",
    "from sklearn.preprocessing import MinMaxScaler\n",
    "import matplotlib.pyplot as mp"
   ]
  },
  {
   "cell_type": "markdown",
   "metadata": {},
   "source": [
    "### Load the Dataset"
   ]
  },
  {
   "cell_type": "code",
   "execution_count": 13,
   "metadata": {},
   "outputs": [
    {
     "name": "stdout",
     "output_type": "stream",
     "text": [
      "Train dataset shape: (43957, 15)\n",
      "Test dataset shape: (899, 14)\n"
     ]
    }
   ],
   "source": [
    "train_data = pd.read_csv('train.csv')\n",
    "test_data = pd.read_csv('test.csv')\n",
    "\n",
    "print(\"Train dataset shape:\", train_data.shape)\n",
    "print(\"Test dataset shape:\", test_data.shape)"
   ]
  },
  {
   "cell_type": "markdown",
   "metadata": {},
   "source": [
    "## Explore features"
   ]
  },
  {
   "cell_type": "markdown",
   "metadata": {},
   "source": [
    "<h3>Data Columns Explanation</h3>\n",
    "\n",
    "<ul>\n",
    "  <li><strong>Age:</strong> Age of the person.</li>\n",
    "  <li><strong>Workclass:</strong> Categorical variable indicating the type of work, e.g., Government or Private.</li>\n",
    "  <li><strong>Fnlwgt:</strong> Final weight, a demographic weighting variable.</li>\n",
    "  <li><strong>Education:</strong> Education level of the person.</li>\n",
    "  <li><strong>Educational-num:</strong> Education represented as an integer.</li>\n",
    "  <li><strong>Marital-status:</strong> Marital status of the person.</li>\n",
    "  <li><strong>Occupation:</strong> Occupation of the person or job title.</li>\n",
    "  <li><strong>Relationship:</strong> Relationship status of the person.</li>\n",
    "  <li><strong>Race:</strong> Race of the person.</li>\n",
    "  <li><strong>Gender:</strong> Gender of the person.</li>\n",
    "  <li><strong>Capital-gain:</strong> Capital gain.</li>\n",
    "  <li><strong>Capital-loss:</strong> Capital loss.</li>\n",
    "  <li><strong>Hours-per-week:</strong> Hours worked per week.</li>\n",
    "  <li><strong>Native-country:</strong> Native country of the person.</li>\n",
    "  <li><strong>Income_>50K:</strong> Target column indicating whether the income is greater than $50K.</li>\n",
    "</ul>\n"
   ]
  },
  {
   "cell_type": "code",
   "execution_count": 4,
   "metadata": {},
   "outputs": [
    {
     "data": {
      "text/html": [
       "<div>\n",
       "<style scoped>\n",
       "    .dataframe tbody tr th:only-of-type {\n",
       "        vertical-align: middle;\n",
       "    }\n",
       "\n",
       "    .dataframe tbody tr th {\n",
       "        vertical-align: top;\n",
       "    }\n",
       "\n",
       "    .dataframe thead th {\n",
       "        text-align: right;\n",
       "    }\n",
       "</style>\n",
       "<table border=\"1\" class=\"dataframe\">\n",
       "  <thead>\n",
       "    <tr style=\"text-align: right;\">\n",
       "      <th></th>\n",
       "      <th>age</th>\n",
       "      <th>workclass</th>\n",
       "      <th>fnlwgt</th>\n",
       "      <th>education</th>\n",
       "      <th>educational-num</th>\n",
       "      <th>marital-status</th>\n",
       "      <th>occupation</th>\n",
       "      <th>relationship</th>\n",
       "      <th>race</th>\n",
       "      <th>gender</th>\n",
       "      <th>capital-gain</th>\n",
       "      <th>capital-loss</th>\n",
       "      <th>hours-per-week</th>\n",
       "      <th>native-country</th>\n",
       "      <th>income_&gt;50K</th>\n",
       "    </tr>\n",
       "  </thead>\n",
       "  <tbody>\n",
       "    <tr>\n",
       "      <th>0</th>\n",
       "      <td>67</td>\n",
       "      <td>Private</td>\n",
       "      <td>366425</td>\n",
       "      <td>Doctorate</td>\n",
       "      <td>16</td>\n",
       "      <td>Divorced</td>\n",
       "      <td>Exec-managerial</td>\n",
       "      <td>Not-in-family</td>\n",
       "      <td>White</td>\n",
       "      <td>Male</td>\n",
       "      <td>99999</td>\n",
       "      <td>0</td>\n",
       "      <td>60</td>\n",
       "      <td>United-States</td>\n",
       "      <td>1</td>\n",
       "    </tr>\n",
       "    <tr>\n",
       "      <th>1</th>\n",
       "      <td>17</td>\n",
       "      <td>Private</td>\n",
       "      <td>244602</td>\n",
       "      <td>12th</td>\n",
       "      <td>8</td>\n",
       "      <td>Never-married</td>\n",
       "      <td>Other-service</td>\n",
       "      <td>Own-child</td>\n",
       "      <td>White</td>\n",
       "      <td>Male</td>\n",
       "      <td>0</td>\n",
       "      <td>0</td>\n",
       "      <td>15</td>\n",
       "      <td>United-States</td>\n",
       "      <td>0</td>\n",
       "    </tr>\n",
       "    <tr>\n",
       "      <th>2</th>\n",
       "      <td>31</td>\n",
       "      <td>Private</td>\n",
       "      <td>174201</td>\n",
       "      <td>Bachelors</td>\n",
       "      <td>13</td>\n",
       "      <td>Married-civ-spouse</td>\n",
       "      <td>Exec-managerial</td>\n",
       "      <td>Husband</td>\n",
       "      <td>White</td>\n",
       "      <td>Male</td>\n",
       "      <td>0</td>\n",
       "      <td>0</td>\n",
       "      <td>40</td>\n",
       "      <td>United-States</td>\n",
       "      <td>1</td>\n",
       "    </tr>\n",
       "    <tr>\n",
       "      <th>3</th>\n",
       "      <td>58</td>\n",
       "      <td>State-gov</td>\n",
       "      <td>110199</td>\n",
       "      <td>7th-8th</td>\n",
       "      <td>4</td>\n",
       "      <td>Married-civ-spouse</td>\n",
       "      <td>Transport-moving</td>\n",
       "      <td>Husband</td>\n",
       "      <td>White</td>\n",
       "      <td>Male</td>\n",
       "      <td>0</td>\n",
       "      <td>0</td>\n",
       "      <td>40</td>\n",
       "      <td>United-States</td>\n",
       "      <td>0</td>\n",
       "    </tr>\n",
       "    <tr>\n",
       "      <th>4</th>\n",
       "      <td>25</td>\n",
       "      <td>State-gov</td>\n",
       "      <td>149248</td>\n",
       "      <td>Some-college</td>\n",
       "      <td>10</td>\n",
       "      <td>Never-married</td>\n",
       "      <td>Other-service</td>\n",
       "      <td>Not-in-family</td>\n",
       "      <td>Black</td>\n",
       "      <td>Male</td>\n",
       "      <td>0</td>\n",
       "      <td>0</td>\n",
       "      <td>40</td>\n",
       "      <td>United-States</td>\n",
       "      <td>0</td>\n",
       "    </tr>\n",
       "  </tbody>\n",
       "</table>\n",
       "</div>"
      ],
      "text/plain": [
       "   age  workclass  fnlwgt     education  educational-num      marital-status  \\\n",
       "0   67    Private  366425     Doctorate               16            Divorced   \n",
       "1   17    Private  244602          12th                8       Never-married   \n",
       "2   31    Private  174201     Bachelors               13  Married-civ-spouse   \n",
       "3   58  State-gov  110199       7th-8th                4  Married-civ-spouse   \n",
       "4   25  State-gov  149248  Some-college               10       Never-married   \n",
       "\n",
       "         occupation   relationship   race gender  capital-gain  capital-loss  \\\n",
       "0   Exec-managerial  Not-in-family  White   Male         99999             0   \n",
       "1     Other-service      Own-child  White   Male             0             0   \n",
       "2   Exec-managerial        Husband  White   Male             0             0   \n",
       "3  Transport-moving        Husband  White   Male             0             0   \n",
       "4     Other-service  Not-in-family  Black   Male             0             0   \n",
       "\n",
       "   hours-per-week native-country  income_>50K  \n",
       "0              60  United-States            1  \n",
       "1              15  United-States            0  \n",
       "2              40  United-States            1  \n",
       "3              40  United-States            0  \n",
       "4              40  United-States            0  "
      ]
     },
     "execution_count": 4,
     "metadata": {},
     "output_type": "execute_result"
    }
   ],
   "source": [
    "train_data.head()"
   ]
  },
  {
   "cell_type": "markdown",
   "metadata": {},
   "source": [
    "## Data Cleaning"
   ]
  },
  {
   "cell_type": "code",
   "execution_count": 5,
   "metadata": {},
   "outputs": [
    {
     "name": "stdout",
     "output_type": "stream",
     "text": [
      "<class 'pandas.core.frame.DataFrame'>\n",
      "RangeIndex: 43957 entries, 0 to 43956\n",
      "Data columns (total 15 columns):\n",
      " #   Column           Non-Null Count  Dtype \n",
      "---  ------           --------------  ----- \n",
      " 0   age              43957 non-null  int64 \n",
      " 1   workclass        41459 non-null  object\n",
      " 2   fnlwgt           43957 non-null  int64 \n",
      " 3   education        43957 non-null  object\n",
      " 4   educational-num  43957 non-null  int64 \n",
      " 5   marital-status   43957 non-null  object\n",
      " 6   occupation       41451 non-null  object\n",
      " 7   relationship     43957 non-null  object\n",
      " 8   race             43957 non-null  object\n",
      " 9   gender           43957 non-null  object\n",
      " 10  capital-gain     43957 non-null  int64 \n",
      " 11  capital-loss     43957 non-null  int64 \n",
      " 12  hours-per-week   43957 non-null  int64 \n",
      " 13  native-country   43194 non-null  object\n",
      " 14  income_>50K      43957 non-null  int64 \n",
      "dtypes: int64(7), object(8)\n",
      "memory usage: 5.0+ MB\n"
     ]
    }
   ],
   "source": [
    "train_data.info()"
   ]
  },
  {
   "cell_type": "code",
   "execution_count": 6,
   "metadata": {},
   "outputs": [
    {
     "data": {
      "text/plain": [
       "age                   0\n",
       "workclass          2498\n",
       "fnlwgt                0\n",
       "education             0\n",
       "educational-num       0\n",
       "marital-status        0\n",
       "occupation         2506\n",
       "relationship          0\n",
       "race                  0\n",
       "gender                0\n",
       "capital-gain          0\n",
       "capital-loss          0\n",
       "hours-per-week        0\n",
       "native-country      763\n",
       "income_>50K           0\n",
       "dtype: int64"
      ]
     },
     "execution_count": 6,
     "metadata": {},
     "output_type": "execute_result"
    }
   ],
   "source": [
    "train_data.isnull().sum()"
   ]
  },
  {
   "cell_type": "markdown",
   "metadata": {},
   "source": [
    "### Fill null values"
   ]
  },
  {
   "cell_type": "code",
   "execution_count": 7,
   "metadata": {},
   "outputs": [],
   "source": [
    "# Replace missing values in 'workclass' column with mode\n",
    "workclass_mode = train_data['workclass'].mode()[0]\n",
    "train_data['workclass'].fillna(workclass_mode, inplace=True)\n",
    "test_data['workclass'].fillna(workclass_mode, inplace=True)\n",
    "\n",
    "# Replace missing values in 'occupation' column with mode\n",
    "occupation_mode = train_data['occupation'].mode()[0]\n",
    "train_data['occupation'].fillna(occupation_mode, inplace=True)\n",
    "test_data['occupation'].fillna(occupation_mode, inplace=True)\n",
    "\n",
    "# Replace missing values in 'native-country' column with mode\n",
    "native_country_mode = train_data['native-country'].mode()[0]\n",
    "train_data['native-country'].fillna(native_country_mode, inplace=True)\n",
    "test_data['native-country'].fillna(native_country_mode, inplace=True)\n"
   ]
  },
  {
   "cell_type": "code",
   "execution_count": 8,
   "metadata": {},
   "outputs": [
    {
     "data": {
      "text/plain": [
       "age                0\n",
       "workclass          0\n",
       "fnlwgt             0\n",
       "education          0\n",
       "educational-num    0\n",
       "marital-status     0\n",
       "occupation         0\n",
       "relationship       0\n",
       "race               0\n",
       "gender             0\n",
       "capital-gain       0\n",
       "capital-loss       0\n",
       "hours-per-week     0\n",
       "native-country     0\n",
       "income_>50K        0\n",
       "dtype: int64"
      ]
     },
     "execution_count": 8,
     "metadata": {},
     "output_type": "execute_result"
    }
   ],
   "source": [
    "train_data.isnull().sum()"
   ]
  },
  {
   "cell_type": "markdown",
   "metadata": {},
   "source": [
    "Check if the data is balanced or not "
   ]
  },
  {
   "cell_type": "code",
   "execution_count": 9,
   "metadata": {},
   "outputs": [
    {
     "data": {
      "text/plain": [
       "(array([33439.,     0.,     0.,     0.,     0.,     0.,     0.,     0.,\n",
       "            0., 10518.]),\n",
       " array([0. , 0.1, 0.2, 0.3, 0.4, 0.5, 0.6, 0.7, 0.8, 0.9, 1. ]),\n",
       " <BarContainer object of 10 artists>)"
      ]
     },
     "execution_count": 9,
     "metadata": {},
     "output_type": "execute_result"
    },
    {
     "data": {
      "image/png": "[encoded data removed]",
      "text/plain": [
       "<Figure size 640x480 with 1 Axes>"
      ]
     },
     "metadata": {},
     "output_type": "display_data"
    }
   ],
   "source": [
    "train_data[\"income_>50K\"].value_counts()\n",
    "mp.hist(train_data[\"income_>50K\"])"
   ]
  },
  {
   "cell_type": "code",
   "execution_count": 10,
   "metadata": {},
   "outputs": [
    {
     "data": {
      "text/html": [
       "<div>\n",
       "<style scoped>\n",
       "    .dataframe tbody tr th:only-of-type {\n",
       "        vertical-align: middle;\n",
       "    }\n",
       "\n",
       "    .dataframe tbody tr th {\n",
       "        vertical-align: top;\n",
       "    }\n",
       "\n",
       "    .dataframe thead th {\n",
       "        text-align: right;\n",
       "    }\n",
       "</style>\n",
       "<table border=\"1\" class=\"dataframe\">\n",
       "  <thead>\n",
       "    <tr style=\"text-align: right;\">\n",
       "      <th></th>\n",
       "      <th>age</th>\n",
       "      <th>workclass</th>\n",
       "      <th>fnlwgt</th>\n",
       "      <th>education</th>\n",
       "      <th>educational-num</th>\n",
       "      <th>marital-status</th>\n",
       "      <th>occupation</th>\n",
       "      <th>relationship</th>\n",
       "      <th>race</th>\n",
       "      <th>gender</th>\n",
       "      <th>capital-gain</th>\n",
       "      <th>capital-loss</th>\n",
       "      <th>hours-per-week</th>\n",
       "      <th>native-country</th>\n",
       "      <th>income_&gt;50K</th>\n",
       "    </tr>\n",
       "  </thead>\n",
       "  <tbody>\n",
       "    <tr>\n",
       "      <th>1</th>\n",
       "      <td>17</td>\n",
       "      <td>Private</td>\n",
       "      <td>244602</td>\n",
       "      <td>12th</td>\n",
       "      <td>8</td>\n",
       "      <td>Never-married</td>\n",
       "      <td>Other-service</td>\n",
       "      <td>Own-child</td>\n",
       "      <td>White</td>\n",
       "      <td>Male</td>\n",
       "      <td>0</td>\n",
       "      <td>0</td>\n",
       "      <td>15</td>\n",
       "      <td>United-States</td>\n",
       "      <td>0</td>\n",
       "    </tr>\n",
       "    <tr>\n",
       "      <th>3</th>\n",
       "      <td>58</td>\n",
       "      <td>State-gov</td>\n",
       "      <td>110199</td>\n",
       "      <td>7th-8th</td>\n",
       "      <td>4</td>\n",
       "      <td>Married-civ-spouse</td>\n",
       "      <td>Transport-moving</td>\n",
       "      <td>Husband</td>\n",
       "      <td>White</td>\n",
       "      <td>Male</td>\n",
       "      <td>0</td>\n",
       "      <td>0</td>\n",
       "      <td>40</td>\n",
       "      <td>United-States</td>\n",
       "      <td>0</td>\n",
       "    </tr>\n",
       "    <tr>\n",
       "      <th>4</th>\n",
       "      <td>25</td>\n",
       "      <td>State-gov</td>\n",
       "      <td>149248</td>\n",
       "      <td>Some-college</td>\n",
       "      <td>10</td>\n",
       "      <td>Never-married</td>\n",
       "      <td>Other-service</td>\n",
       "      <td>Not-in-family</td>\n",
       "      <td>Black</td>\n",
       "      <td>Male</td>\n",
       "      <td>0</td>\n",
       "      <td>0</td>\n",
       "      <td>40</td>\n",
       "      <td>United-States</td>\n",
       "      <td>0</td>\n",
       "    </tr>\n",
       "    <tr>\n",
       "      <th>5</th>\n",
       "      <td>59</td>\n",
       "      <td>State-gov</td>\n",
       "      <td>105363</td>\n",
       "      <td>HS-grad</td>\n",
       "      <td>9</td>\n",
       "      <td>Never-married</td>\n",
       "      <td>Adm-clerical</td>\n",
       "      <td>Own-child</td>\n",
       "      <td>White</td>\n",
       "      <td>Male</td>\n",
       "      <td>0</td>\n",
       "      <td>0</td>\n",
       "      <td>40</td>\n",
       "      <td>United-States</td>\n",
       "      <td>0</td>\n",
       "    </tr>\n",
       "    <tr>\n",
       "      <th>6</th>\n",
       "      <td>70</td>\n",
       "      <td>Private</td>\n",
       "      <td>216390</td>\n",
       "      <td>9th</td>\n",
       "      <td>5</td>\n",
       "      <td>Married-civ-spouse</td>\n",
       "      <td>Machine-op-inspct</td>\n",
       "      <td>Wife</td>\n",
       "      <td>White</td>\n",
       "      <td>Female</td>\n",
       "      <td>2653</td>\n",
       "      <td>0</td>\n",
       "      <td>40</td>\n",
       "      <td>United-States</td>\n",
       "      <td>0</td>\n",
       "    </tr>\n",
       "    <tr>\n",
       "      <th>...</th>\n",
       "      <td>...</td>\n",
       "      <td>...</td>\n",
       "      <td>...</td>\n",
       "      <td>...</td>\n",
       "      <td>...</td>\n",
       "      <td>...</td>\n",
       "      <td>...</td>\n",
       "      <td>...</td>\n",
       "      <td>...</td>\n",
       "      <td>...</td>\n",
       "      <td>...</td>\n",
       "      <td>...</td>\n",
       "      <td>...</td>\n",
       "      <td>...</td>\n",
       "      <td>...</td>\n",
       "    </tr>\n",
       "    <tr>\n",
       "      <th>43942</th>\n",
       "      <td>39</td>\n",
       "      <td>Private</td>\n",
       "      <td>33355</td>\n",
       "      <td>HS-grad</td>\n",
       "      <td>9</td>\n",
       "      <td>Married-civ-spouse</td>\n",
       "      <td>Transport-moving</td>\n",
       "      <td>Husband</td>\n",
       "      <td>White</td>\n",
       "      <td>Male</td>\n",
       "      <td>7298</td>\n",
       "      <td>0</td>\n",
       "      <td>48</td>\n",
       "      <td>United-States</td>\n",
       "      <td>1</td>\n",
       "    </tr>\n",
       "    <tr>\n",
       "      <th>43943</th>\n",
       "      <td>53</td>\n",
       "      <td>Private</td>\n",
       "      <td>153064</td>\n",
       "      <td>5th-6th</td>\n",
       "      <td>3</td>\n",
       "      <td>Married-civ-spouse</td>\n",
       "      <td>Exec-managerial</td>\n",
       "      <td>Husband</td>\n",
       "      <td>White</td>\n",
       "      <td>Male</td>\n",
       "      <td>7688</td>\n",
       "      <td>0</td>\n",
       "      <td>10</td>\n",
       "      <td>Yugoslavia</td>\n",
       "      <td>1</td>\n",
       "    </tr>\n",
       "    <tr>\n",
       "      <th>43946</th>\n",
       "      <td>47</td>\n",
       "      <td>Private</td>\n",
       "      <td>420986</td>\n",
       "      <td>Bachelors</td>\n",
       "      <td>13</td>\n",
       "      <td>Married-civ-spouse</td>\n",
       "      <td>Exec-managerial</td>\n",
       "      <td>Husband</td>\n",
       "      <td>White</td>\n",
       "      <td>Male</td>\n",
       "      <td>0</td>\n",
       "      <td>0</td>\n",
       "      <td>40</td>\n",
       "      <td>United-States</td>\n",
       "      <td>1</td>\n",
       "    </tr>\n",
       "    <tr>\n",
       "      <th>43948</th>\n",
       "      <td>44</td>\n",
       "      <td>Private</td>\n",
       "      <td>247880</td>\n",
       "      <td>Assoc-voc</td>\n",
       "      <td>11</td>\n",
       "      <td>Divorced</td>\n",
       "      <td>Exec-managerial</td>\n",
       "      <td>Not-in-family</td>\n",
       "      <td>White</td>\n",
       "      <td>Male</td>\n",
       "      <td>8614</td>\n",
       "      <td>0</td>\n",
       "      <td>40</td>\n",
       "      <td>United-States</td>\n",
       "      <td>1</td>\n",
       "    </tr>\n",
       "    <tr>\n",
       "      <th>43952</th>\n",
       "      <td>52</td>\n",
       "      <td>Private</td>\n",
       "      <td>68982</td>\n",
       "      <td>Bachelors</td>\n",
       "      <td>13</td>\n",
       "      <td>Married-civ-spouse</td>\n",
       "      <td>Exec-managerial</td>\n",
       "      <td>Husband</td>\n",
       "      <td>White</td>\n",
       "      <td>Male</td>\n",
       "      <td>0</td>\n",
       "      <td>0</td>\n",
       "      <td>50</td>\n",
       "      <td>United-States</td>\n",
       "      <td>1</td>\n",
       "    </tr>\n",
       "  </tbody>\n",
       "</table>\n",
       "<p>43957 rows × 15 columns</p>\n",
       "</div>"
      ],
      "text/plain": [
       "       age  workclass  fnlwgt     education  educational-num  \\\n",
       "1       17    Private  244602          12th                8   \n",
       "3       58  State-gov  110199       7th-8th                4   \n",
       "4       25  State-gov  149248  Some-college               10   \n",
       "5       59  State-gov  105363       HS-grad                9   \n",
       "6       70    Private  216390           9th                5   \n",
       "...    ...        ...     ...           ...              ...   \n",
       "43942   39    Private   33355       HS-grad                9   \n",
       "43943   53    Private  153064       5th-6th                3   \n",
       "43946   47    Private  420986     Bachelors               13   \n",
       "43948   44    Private  247880     Assoc-voc               11   \n",
       "43952   52    Private   68982     Bachelors               13   \n",
       "\n",
       "           marital-status         occupation   relationship   race  gender  \\\n",
       "1           Never-married      Other-service      Own-child  White    Male   \n",
       "3      Married-civ-spouse   Transport-moving        Husband  White    Male   \n",
       "4           Never-married      Other-service  Not-in-family  Black    Male   \n",
       "5           Never-married       Adm-clerical      Own-child  White    Male   \n",
       "6      Married-civ-spouse  Machine-op-inspct           Wife  White  Female   \n",
       "...                   ...                ...            ...    ...     ...   \n",
       "43942  Married-civ-spouse   Transport-moving        Husband  White    Male   \n",
       "43943  Married-civ-spouse    Exec-managerial        Husband  White    Male   \n",
       "43946  Married-civ-spouse    Exec-managerial        Husband  White    Male   \n",
       "43948            Divorced    Exec-managerial  Not-in-family  White    Male   \n",
       "43952  Married-civ-spouse    Exec-managerial        Husband  White    Male   \n",
       "\n",
       "       capital-gain  capital-loss  hours-per-week native-country  income_>50K  \n",
       "1                 0             0              15  United-States            0  \n",
       "3                 0             0              40  United-States            0  \n",
       "4                 0             0              40  United-States            0  \n",
       "5                 0             0              40  United-States            0  \n",
       "6              2653             0              40  United-States            0  \n",
       "...             ...           ...             ...            ...          ...  \n",
       "43942          7298             0              48  United-States            1  \n",
       "43943          7688             0              10     Yugoslavia            1  \n",
       "43946             0             0              40  United-States            1  \n",
       "43948          8614             0              40  United-States            1  \n",
       "43952             0             0              50  United-States            1  \n",
       "\n",
       "[43957 rows x 15 columns]"
      ]
     },
     "execution_count": 10,
     "metadata": {},
     "output_type": "execute_result"
    }
   ],
   "source": [
    "selected_zero_columns = train_data.loc[train_data['income_>50K'] == 0].iloc[:, :10000]\n",
    "selected_one_columns = train_data.loc[train_data['income_>50K'] == 1].iloc[:, :10000]\n",
    "final_data = pd.concat([selected_zero_columns,selected_one_columns])\n",
    "final_data"
   ]
  },
  {
   "cell_type": "code",
   "execution_count": 11,
   "metadata": {},
   "outputs": [],
   "source": [
    "# Separate input features and target variable\n",
    "X = train_data.drop('income_>50K', axis=1)\n",
    "y = train_data['income_>50K']"
   ]
  },
  {
   "cell_type": "code",
   "execution_count": 12,
   "metadata": {},
   "outputs": [
    {
     "name": "stdout",
     "output_type": "stream",
     "text": [
      "Preprocessed dataset: (43957, 105)\n"
     ]
    }
   ],
   "source": [
    "# Identify numerical and categorical columns\n",
    "numerical_cols = X.select_dtypes(include='number').columns\n",
    "categorical_cols = X.select_dtypes(include='object').columns\n",
    "\n",
    "# Normalize numerical columns\n",
    "scaler = MinMaxScaler()\n",
    "X[numerical_cols] = scaler.fit_transform(X[numerical_cols])\n",
    "\n",
    "# encode categorical columns\n",
    "X = pd.get_dummies(X, columns=categorical_cols)\n",
    "print(\"Preprocessed dataset:\", X.shape)"
   ]
  }
 ],
 "metadata": {
  "kernelspec": {
   "display_name": "base",
   "language": "python",
   "name": "python3"
  },
  "language_info": {
   "codemirror_mode": {
    "name": "ipython",
    "version": 3
   },
   "file_extension": ".py",
   "mimetype": "text/x-python",
   "name": "python",
   "nbconvert_exporter": "python",
   "pygments_lexer": "ipython3",
   "version": "3.9.19"
  }
 },
 "nbformat": 4,
 "nbformat_minor": 2
}
